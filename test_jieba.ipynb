{
 "cells": [
  {
   "cell_type": "code",
   "execution_count": 2,
   "metadata": {},
   "outputs": [
    {
     "name": "stdout",
     "output_type": "stream",
     "text": [
      "Full Mode: 正品/ 行货/ ，/ 均/ 开具/ 正规/ 发票/ （/ 图书/ 商品/ 用户/ 自\n"
     ]
    }
   ],
   "source": [
    "import jieba as jb\n",
    "seg_list = jb.cut(\"正品行货，均开具正规发票（图书商品用户自\", cut_all=False)\n",
    "print(\"Full Mode: \" + \"/ \".join(seg_list))  # 全模式"
   ]
  },
  {
   "cell_type": "code",
   "execution_count": 3,
   "metadata": {},
   "outputs": [
    {
     "name": "stdout",
     "output_type": "stream",
     "text": [
      "正品 n\n",
      "行货 n\n",
      "， x\n",
      "均 d\n",
      "开具 v\n",
      "正规 a\n",
      "发票 n\n",
      "（ x\n",
      "图书 n\n",
      "商品 n\n",
      "用户 n\n",
      "自 p\n"
     ]
    }
   ],
   "source": [
    "import jieba.posseg as posseg\n",
    "words = posseg.cut(\"正品行货，均开具正规发票（图书商品用户自\")\n",
    "for word, flag in words:\n",
    "    print('%s %s' % (word, flag))"
   ]
  },
  {
   "cell_type": "code",
   "execution_count": 5,
   "metadata": {},
   "outputs": [
    {
     "name": "stdout",
     "output_type": "stream",
     "text": [
      "316669\n"
     ]
    }
   ],
   "source": [
    "import re\n",
    "text = \"\"\n",
    "with open('黑暗森林.txt') as f:  \n",
    "    text = re.sub(\"\\s+\", \"\", f.read())\n",
    "print(len(text))"
   ]
  },
  {
   "cell_type": "code",
   "execution_count": 6,
   "metadata": {
    "scrolled": false
   },
   "outputs": [
    {
     "name": "stdout",
     "output_type": "stream",
     "text": [
      "['罗辑', '...', '面壁', '舰队', '太空', '一个', '迪亚兹', '北海', '三体', '我们', '他们', '没有', '史强', '现在', '人类', '地球', '自己', '恩斯', '已经', '这个', '看到', '大史', '知道', '水滴', '什么', '可能', '你们', '飞船', '战舰', '破壁', '世界', '泰勒', '宇宙', '智子', '太阳', '冬眠', '计划', '庄颜', '这样', '这种', '就是', '真的', '不是', '钢印', '恒星', '舰长', '惠子', '丁仪', '只是', '太阳系', '可以', '最后', '延绪', '看着', '起来', '两个', '那个', '这里', '自然选择', '文明', '感觉', '思想', '行星', '坎特', '这时', '目光', '如果', '东西', '它们', '应该', '字幕', '开始', '出现', '很快', '只有', '一样', '需要', '一切', '技术', '信念', '东方', '还是', '这是', '目标', '进行', '时间', '位置', '这些', '当然', '所有', '发现', '山杉', '世纪', '然后', '地说', '一种', '一直', '孩子', '博士', '吴岳', '消失', '点点头', '任何', '存在', '所以', '星舰', '进入', '战略', '状态', '伊文斯', '这么', '怎么', '工作', '防御', '探测器', '一次', '常伟思', '时代', '还有', '思维', '处于', '只能', '想象', '看看', '水星', '联合国', '二号', '的话', '因为', '苏醒', '甚至', '研究', '周围', '图像', '逃亡', '系统', '氢弹', '产生', '黑暗', '以前', '问题', '变成', '那时', '发出', '那些', '张援', '轨道', '会场', '一下', '方向', '那样', '那么', '不过', '一片', '肯定', '注意', '代表', '声音', '好像', '信息', '同时', '出来', '木星', '空间', '空军', '失败主义', '会议', '摇摇头', '先生', '林格', '一部分', '战争', '主席', '眼睛', '接着', '其他', '仿佛', '电梯', '地方', '人们', '听到', '看上去', '爆炸', '发生', '几乎', '减速', '交流', '正在', '外面', '地面', '加速', '完全', '理解', '为什么', '能够', '认为', '军官', '即使', '核弹', '像是']\n",
      "2.107604503631592\n"
     ]
    }
   ],
   "source": [
    "import time\n",
    "import jieba.analyse\n",
    "start = time.time()\n",
    "print(jieba.analyse.extract_tags(text, topK=200, withWeight=False, allowPOS=()))\n",
    "end = time.time() - start\n",
    "print(end)"
   ]
  },
  {
   "cell_type": "code",
   "execution_count": 7,
   "metadata": {
    "scrolled": true
   },
   "outputs": [
    {
     "name": "stdout",
     "output_type": "stream",
     "text": [
      "['舰队', '太空', '人类', '地球', '面壁', '世界', '计划', '三体', '飞船', '宇宙', '水滴', '技术', '罗辑', '产生', '思想', '战舰', '感觉', '目标', '战略', '系统', '时间', '太阳系', '行星', '消失', '孩子', '时代', '社会', '空间', '舰长', '大史', '问题', '世纪', '目光', '人们', '状态', '会议', '战争', '想象', '代表', '钢印', '国际', '星舰', '图像', '智子', '空军', '信息', '思维', '主席', '国家', '方向', '武器', '眼睛', '能力', '信念', '地面', '金属', '表面', '声音', '发动机', '计算机', '军官', '光芒', '大脑', '危机', '探测器', '理事会', '核聚变', '速度', '电梯', '轨道', '力量', '物质', '全部', '水星', '木星', '交流', '地方', '航行', '天空', '基本', '氢弹', '大量', '过程', '陨石', '历史', '破壁', '银河系', '中心', '子弹', '距离', '会场', '形状', '工程', '部分', '衣服', '黑色', '失败主义', '方式', '先生', '意义', '结构', '资源', '现实', '无法', '样子', '情况', '博士', '白色', '字幕', '身体', '时候', '精神', '房间', '海军', '将军', '医生', '理论', '老人', '基础', '范围', '量子', '碎片', '空气', '球形', '政治', '蓝色', '星空', '核弹', '社会学', '小时', '燃料', '身份', '命题', '背景', '建筑', '意识', '指指', '父亲', '基地', '队列', '新闻', '镜面', '方案', '沙漠', '星际', '战场', '信号', '后者', '尘埃', '人员', '激光', '电脑', '导弹', '编队', '火光', '电视', '成员', '事儿', '飞机', '同志', '机会', '护士', '雪地', '科学家', '球体', '屏幕', '领导', '责任', '敌人', '低谷', '大厅', '航天', '结果', '表情', '床上', '火箭', '听证会', '军人', '部队', '法律', '外界', '模式', '权力', '军队', '方面', '褐蚁', '传统', '消耗', '公民', '政府', '大气层', '壁炉', '科学', '工质', '委员会', '环境', '夜空', '联系', '边缘', '空白']\n",
      "17.578707456588745\n"
     ]
    }
   ],
   "source": [
    "start = time.time()\n",
    "print(jieba.analyse.textrank(text, topK=200, withWeight=False, allowPOS=(\"n\")) )\n",
    "end = time.time() - start\n",
    "print(end)"
   ]
  },
  {
   "cell_type": "code",
   "execution_count": 9,
   "metadata": {},
   "outputs": [
    {
     "name": "stdout",
     "output_type": "stream",
     "text": [
      "235\n",
      "['峡谷', '暮色', '时光', '泥土', '褐蚁', '标记', '消失', '大地', '家园', '世界']\n",
      "褐蚁 n\n",
      "已经 d\n",
      "忘记 v\n",
      "这里 r\n",
      "曾 d\n",
      "是 v\n",
      "它 r\n",
      "的 uj\n",
      "家园 n\n",
      "。 x\n",
      "这 r\n",
      "段 q\n",
      "时光 n\n",
      "对于 p\n",
      "暮色 n\n",
      "中 f\n",
      "的 uj\n",
      "大地 n\n",
      "和 c\n",
      "刚刚 d\n",
      "出现 v\n",
      "的 uj\n",
      "星星 nz\n",
      "来说 u\n",
      "短 a\n",
      "得 ud\n",
      "可以 c\n",
      "忽略不计 l\n",
      "， x\n",
      "但 c\n",
      "对于 p\n",
      "它 r\n",
      "来说 u\n",
      "却是 d\n",
      "漫长 n\n",
      "的 uj\n",
      "。 x\n",
      "在 p\n",
      "那个 r\n",
      "已 d\n",
      "被 p\n",
      "忘却 v\n",
      "的 uj\n",
      "日子 n\n",
      "里 f\n",
      "， x\n",
      "它 r\n",
      "的 uj\n",
      "世界 n\n",
      "颠覆 v\n",
      "了 ul\n",
      "。 x\n",
      "泥土 n\n",
      "飞 v\n",
      "走 v\n",
      "， x\n",
      "出现 v\n",
      "了 ul\n",
      "一条 m\n",
      "又 d\n",
      "深 a\n",
      "又 d\n",
      "宽 a\n",
      "的 uj\n",
      "峡谷 n\n",
      "， x\n",
      "然后 c\n",
      "泥土 n\n",
      "又 d\n",
      "轰隆隆 o\n",
      "地 uv\n",
      "飞回来 l\n",
      "， x\n",
      "峡谷 n\n",
      "消失 n\n",
      "了 ul\n",
      "， x\n",
      "在 p\n",
      "原来 d\n",
      "峡谷 n\n",
      "的 uj\n",
      "尽头 d\n",
      "出现 v\n",
      "了 ul\n",
      "一座 m\n",
      "黑色 n\n",
      "的 uj\n",
      "孤峰 nr\n",
      "。 x\n",
      "其实 d\n",
      "， x\n",
      "在 p\n",
      "这 r\n",
      "片 q\n",
      "广阔 a\n",
      "的 uj\n",
      "疆域 n\n",
      "上 f\n",
      "， x\n",
      "这种 r\n",
      "事 n\n",
      "常常 d\n",
      "发生 v\n",
      "， x\n",
      "泥土 n\n",
      "飞 v\n",
      "走 v\n",
      "又 d\n",
      "飞回 v\n",
      "， x\n",
      "峡谷 n\n",
      "出现 v\n",
      "又 d\n",
      "消失 n\n",
      "， x\n",
      "然后 c\n",
      "是 v\n",
      "孤峰 nr\n",
      "降临 v\n",
      "， x\n",
      "好像 v\n",
      "是 v\n",
      "给 p\n",
      "每次 r\n",
      "灾变 n\n",
      "打 v\n",
      "上 f\n",
      "一个 m\n",
      "醒目 v\n",
      "的 uj\n",
      "标记 n\n",
      "。 x\n",
      "褐蚁 n\n",
      "和 c\n",
      "几百个 m\n",
      "同族 nz\n",
      "带 v\n",
      "着 uz\n",
      "幸存 v\n",
      "的 uj\n",
      "蚁后 n\n",
      "向着 p\n",
      "太阳 ns\n",
      "落下 v\n",
      "的 uj\n",
      "方向 n\n",
      "走 v\n",
      "了 ul\n",
      "一段路 l\n",
      "， x\n",
      "建立 v\n",
      "了 ul\n",
      "新 a\n",
      "的 uj\n",
      "帝国 n\n",
      "。 x\n"
     ]
    }
   ],
   "source": [
    "text_short = \"\"\n",
    "with open('test.txt') as f:  \n",
    "    text_short = re.sub(\"\\s+\", \"\", f.read())\n",
    "print(len(text_short))\n",
    "print(jieba.analyse.textrank(text_short, topK=200, withWeight=False, allowPOS=(\"ns\")) )\n",
    "words = posseg.cut(text_short)\n",
    "for word, flag in words:\n",
    "    print('%s %s' % (word, flag))"
   ]
  }
 ],
 "metadata": {
  "kernelspec": {
   "display_name": "Python 3",
   "language": "python",
   "name": "python3"
  },
  "language_info": {
   "codemirror_mode": {
    "name": "ipython",
    "version": 3
   },
   "file_extension": ".py",
   "mimetype": "text/x-python",
   "name": "python",
   "nbconvert_exporter": "python",
   "pygments_lexer": "ipython3",
   "version": "3.6.3"
  }
 },
 "nbformat": 4,
 "nbformat_minor": 2
}
