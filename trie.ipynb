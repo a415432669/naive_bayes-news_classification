{
 "cells": [
  {
   "cell_type": "code",
   "execution_count": 53,
   "metadata": {},
   "outputs": [
    {
     "name": "stdout",
     "output_type": "stream",
     "text": [
      "{'s': {'t': {'a': {'n': {'d': {'en': True}}, 'r': {'en': True}, 't': {'i': {'s': {'t': {'i': {'c': {'s': {'en': True}}}}}}}}, 'r': {'a': {'n': {'g': {'e': {'en': True}}}}}}}}\n",
      "stand\n",
      "star\n",
      "stand\n",
      "statistics\n",
      "strange\n"
     ]
    }
   ],
   "source": [
    "class Trie:\n",
    "    # 初始化字典\n",
    "    def __init__(self, word_list):\n",
    "        self.dict = {}\n",
    "        for item in word_list:\n",
    "            self.node(self.dict, list(item), 0)\n",
    "    \n",
    "    # 对词按位生成节点\n",
    "    def node(self, node, word, indexOf):\n",
    "        if word[indexOf] not in node:\n",
    "            node[word[indexOf]] = {}\n",
    "        if indexOf == len(word) - 1:\n",
    "            node[word[indexOf]]['en'] = True\n",
    "        else:\n",
    "            self.node(node[word[indexOf]], word, indexOf + 1)\n",
    "    \n",
    "    # 遍历字典节点\n",
    "    def checkNode(self, node, seg, indexOf):\n",
    "        if indexOf >= len(seg) or seg[indexOf] not in node:\n",
    "            return False\n",
    "        nextNode = self.checkNode(node[seg[indexOf]], seg, indexOf + 1)\n",
    "        return nextNode if nextNode else indexOf if 'en' in node[seg[indexOf]] else False\n",
    "    \n",
    "    # 检查字符串\n",
    "    def check(self, string):\n",
    "        segment = list(string)\n",
    "        for i in range(len(segment)):\n",
    "            index = self.checkNode(self.dict, segment, i)\n",
    "            # 打印查到的词\n",
    "            if not index == False:\n",
    "                print(string[i:index + 1])\n",
    "    \n",
    "trie = Trie(['stand', 'star', 'strange', 'statistics'])\n",
    "print(trie.dict)\n",
    "trie.check('standardstar啊啊啊啊啊啊sdfstand啊啊啊啊啊啊啊啊啊啊啊啊statisticsaaaaaaaaaaaaaaaaaaaaaaaaaaaastrange')"
   ]
  }
 ],
 "metadata": {
  "kernelspec": {
   "display_name": "Python 3",
   "language": "python",
   "name": "python3"
  },
  "language_info": {
   "codemirror_mode": {
    "name": "ipython",
    "version": 3
   },
   "file_extension": ".py",
   "mimetype": "text/x-python",
   "name": "python",
   "nbconvert_exporter": "python",
   "pygments_lexer": "ipython3",
   "version": "3.6.3"
  }
 },
 "nbformat": 4,
 "nbformat_minor": 2
}
